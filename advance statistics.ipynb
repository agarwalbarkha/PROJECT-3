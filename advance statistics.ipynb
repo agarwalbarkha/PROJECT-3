{
 "cells": [
  {
   "cell_type": "code",
   "execution_count": 1,
   "id": "18458dd7",
   "metadata": {},
   "outputs": [],
   "source": [
    "import numpy as np\n",
    "import pandas as pd\n",
    "import seaborn as sns\n",
    "import matplotlib.pyplot as plt\n",
    "%matplotlib inline\n",
    "from statsmodels.formula.api import ols      \n",
    "from statsmodels.stats.anova import _get_covariance,anova_lm \n",
    "import scipy.stats as stats\n",
    "from scipy.stats import norm \n",
    "from scipy.stats import uniform\n",
    "from scipy.stats import binom\n",
    "from scipy.stats import t\n",
    "from scipy.stats import expon\n",
    "import math\n",
    "from scipy.stats import ttest_1samp,ttest_ind"
   ]
  },
  {
   "cell_type": "markdown",
   "id": "328e1774",
   "metadata": {},
   "source": [
    "from IPython.display import Image\n",
    "Image(filename='image.jpg',width=200,height=100)"
   ]
  },
  {
   "attachments": {
    "image.png": {
     "image/png": "[encoded data removed]"
    }
   },
   "cell_type": "markdown",
   "id": "a53f29a8",
   "metadata": {},
   "source": [
    "Problem 1\n",
    "\n",
    "A physiotherapist with a male football team is interested in studying the relationship between foot injuries and the positions at which the players play from the data collected\n",
    "![image.png](attachment:image.png)\n",
    "\n"
   ]
  },
  {
   "cell_type": "markdown",
   "id": "7f848a27",
   "metadata": {},
   "source": [
    "1.1 What is the probability that a randomly chosen player would suffer an injury?"
   ]
  },
  {
   "cell_type": "code",
   "execution_count": 2,
   "id": "c91a37cb",
   "metadata": {},
   "outputs": [
    {
     "name": "stdout",
     "output_type": "stream",
     "text": [
      "Probability that the random chosen player would suffer an injury is 61.7%\n"
     ]
    }
   ],
   "source": [
    "Total_players_injured=145\n",
    "Total_no_of_players=235\n",
    "Prob_injured=round(Total_players_injured/Total_no_of_players,4)*100\n",
    "print('Probability that the random chosen player would suffer an injury is %1.1f' % Prob_injured +'%')"
   ]
  },
  {
   "cell_type": "markdown",
   "id": "bb80355f",
   "metadata": {},
   "source": [
    "1.2 What is the probability that a player is a forward or a winger?"
   ]
  },
  {
   "cell_type": "code",
   "execution_count": 3,
   "id": "4f090273",
   "metadata": {},
   "outputs": [
    {
     "name": "stdout",
     "output_type": "stream",
     "text": [
      "Probability that the player is forward or winger is 52.3%\n"
     ]
    }
   ],
   "source": [
    "Total_forward_players=94\n",
    "Total_winger_players=29\n",
    "Total_no_of_players=235\n",
    "Prob_forward_or_winger=round((Total_forward_players+Total_winger_players)/Total_no_of_players,4)*100\n",
    "print('Probability that the player is forward or winger is %1.1f' % Prob_forward_or_winger +'%')"
   ]
  },
  {
   "cell_type": "markdown",
   "id": "77c99134",
   "metadata": {},
   "source": [
    "1.3 What is the probability that a randomly chosen player plays in a striker position and has a foot injury?"
   ]
  },
  {
   "cell_type": "code",
   "execution_count": 4,
   "id": "b4bd00c1",
   "metadata": {},
   "outputs": [
    {
     "name": "stdout",
     "output_type": "stream",
     "text": [
      "Probability that the randomly chosen player plays in striker position is 19.1%\n"
     ]
    }
   ],
   "source": [
    "\n",
    "Total_players_striker_position_injured=45\n",
    "Total_no_of_players=235\n",
    "Prob_random_player_striker_injured=round(Total_players_striker_position_injured/Total_no_of_players,4)*100\n",
    "print('Probability that the randomly chosen player plays in striker position is %1.1f' % Prob_random_player_striker_injured +'%')"
   ]
  },
  {
   "cell_type": "markdown",
   "id": "23c590d8",
   "metadata": {},
   "source": [
    "1.4 What is the probability that a randomly chosen injured player is a striker?"
   ]
  },
  {
   "cell_type": "code",
   "execution_count": 5,
   "id": "898b5045",
   "metadata": {},
   "outputs": [
    {
     "name": "stdout",
     "output_type": "stream",
     "text": [
      "Probability that the randomly chosen injured player is striker is 31.0%\n"
     ]
    }
   ],
   "source": [
    "Total_players_striker_position_injured=45\n",
    "Total_no_of_players_injured=145\n",
    "Prob_random_injured_player_striker=round(Total_players_striker_position_injured/Total_no_of_players_injured,4)*100\n",
    "print('Probability that the randomly chosen injured player is striker is %1.1f' % Prob_random_injured_player_striker +'%')"
   ]
  },
  {
   "cell_type": "markdown",
   "id": "73df26bb",
   "metadata": {},
   "source": [
    "1.5 What is the probability that a randomly chosen injured player is either a forward or an attacking midfielder?"
   ]
  },
  {
   "cell_type": "code",
   "execution_count": 6,
   "id": "65eb4965",
   "metadata": {},
   "outputs": [
    {
     "name": "stdout",
     "output_type": "stream",
     "text": [
      "Probability that the randomly chosen injured player is either forward or attacking midfilelder is 55.2%\n"
     ]
    }
   ],
   "source": [
    "Total_players_forward_position_injured=56\n",
    "Total_players_attackingmidfielder_position_injured=24\n",
    "Total_no_of_players_injured=145\n",
    "Prob_random_injured_player_forward_or_attackingmidfielder=round((Total_players_forward_position_injured+Total_players_attackingmidfielder_position_injured)/Total_no_of_players_injured,4)*100\n",
    "print('Probability that the randomly chosen injured player is either forward or attacking midfilelder is %1.1f' % Prob_random_injured_player_forward_or_attackingmidfielder +'%')"
   ]
  },
  {
   "cell_type": "markdown",
   "id": "1145c18d",
   "metadata": {},
   "source": [
    "Problem 2\n",
    "\n",
    "An independent research organization is trying to estimate the probability that an accident at a nuclear power plant will result in radiation leakage. The types of accidents possible at the plant are, fire hazards, mechanical failure, or human error. The research organization also knows that two or more types of accidents cannot occur simultaneously.\n",
    "According to the studies carried out by the organization, the probability of a radiation leak in case of a fire is 20%, the probability of a radiation leak in case of a mechanical 50%, and the probability of a radiation leak in case of a human error is 10%. The studies also showed the following;\n",
    "\n",
    "The probability of a radiation leak occurring simultaneously with a fire is 0.1%.\n",
    "The probability of a radiation leak occurring simultaneously with a mechanical failure is 0.15%.\n",
    "The probability of a radiation leak occurring simultaneously with a human error is 0.12%.\n",
    "\n",
    "On the basis of the information available, answer the questions below:\n"
   ]
  },
  {
   "cell_type": "markdown",
   "id": "89df960a",
   "metadata": {},
   "source": [
    "2.1 What are the probabilities of a fire, a mechanical failure, and a human error respectively?"
   ]
  },
  {
   "cell_type": "markdown",
   "id": "0ffa91bf",
   "metadata": {},
   "source": [
    "F=Fire\n",
    "M=Mechanical Failure\n",
    "H=Human Error\n",
    "R=Radiation leak"
   ]
  },
  {
   "cell_type": "markdown",
   "id": "280b9a56",
   "metadata": {},
   "source": [
    "P(R|F)=0.20\n",
    "\n",
    "P(R|M)=0.50\n",
    "\n",
    "P(R|H)=0.10"
   ]
  },
  {
   "cell_type": "markdown",
   "id": "2fc86d54",
   "metadata": {},
   "source": [
    "P(R∩F)=0.01%=0.001\n",
    "\n",
    "P(R∩M)=0.15%=0.0015\n",
    "\n",
    "P(R∩H)=0.12%=0.0012"
   ]
  },
  {
   "cell_type": "markdown",
   "id": "467d3ee1",
   "metadata": {},
   "source": [
    "P(F)=(0.001/0.2)=0.005\n",
    "\n",
    "P(M)=(0.0015/0.50)=0.003\n",
    "\n",
    "P(H)=(0.0012/0.1)=0.012"
   ]
  },
  {
   "cell_type": "markdown",
   "id": "d119f583",
   "metadata": {},
   "source": [
    "What is the probability of a radiation leak?"
   ]
  },
  {
   "cell_type": "markdown",
   "id": "a3c5a51f",
   "metadata": {},
   "source": [
    "Since, the types of accidents possible at the plant are, fire hazards, mechanical failure, or human error.\n",
    "\n",
    "P(N)=1-(0.005+0.003+0.012)=0.98"
   ]
  },
  {
   "cell_type": "markdown",
   "id": "ee67ceda",
   "metadata": {},
   "source": [
    "P(R|N)=0\n",
    "\n",
    "P(R∩N)=P(R|N)P(N)=0"
   ]
  },
  {
   "cell_type": "markdown",
   "id": "f619592a",
   "metadata": {},
   "source": [
    "Using the probability theorum\n",
    "\n",
    "P(R)=(0.001+0.0015+0.0012+0)=0.0037"
   ]
  },
  {
   "cell_type": "markdown",
   "id": "403c5586",
   "metadata": {},
   "source": [
    "2.3 Suppose there has been a radiation leak in the reactor for which the definite cause is not known. What is the probability that it has been caused by:\n",
    "\n",
    "A Fire.\n",
    "A Mechanical Failure.\n",
    "A Human Error."
   ]
  },
  {
   "cell_type": "markdown",
   "id": "69137d93",
   "metadata": {},
   "source": [
    "P(F|R)=(0.001/0.0037)=0.027027027\n",
    "\n",
    "P(M|R)=(0.0015/0.0037)=0.40540541\n",
    "\n",
    "P(H|R)=(0.0012/0.0037)=0.32432432"
   ]
  },
  {
   "cell_type": "markdown",
   "id": "8094285d",
   "metadata": {},
   "source": [
    "Problem 3\n",
    "\n",
    "The breaking strength of gunny bags used for packaging cement is normally distributed with a mean of 5 kg per sq. centimeter and a standard deviation of 1.5 kg per sq. centimeter. The quality team of the cement company wants to know the following about the packaging material to better understand wastage or pilferage within the supply chain; Answer the questions below based on the given information"
   ]
  },
  {
   "cell_type": "markdown",
   "id": "9d75af1b",
   "metadata": {},
   "source": [
    "3.1 What proportion of the gunny bags have a breaking strength less than 3.17 kg per sq cm?"
   ]
  },
  {
   "cell_type": "code",
   "execution_count": 7,
   "id": "955866ff",
   "metadata": {},
   "outputs": [],
   "source": [
    "mu=5\n",
    "sigma=1.5\n",
    "z=(3.17-5)/1.5"
   ]
  },
  {
   "cell_type": "code",
   "execution_count": 8,
   "id": "634f5a46",
   "metadata": {},
   "outputs": [
    {
     "data": {
      "text/plain": [
       "-1.22"
      ]
     },
     "execution_count": 8,
     "metadata": {},
     "output_type": "execute_result"
    }
   ],
   "source": [
    "z"
   ]
  },
  {
   "cell_type": "code",
   "execution_count": 9,
   "id": "57e926aa",
   "metadata": {},
   "outputs": [
    {
     "data": {
      "text/plain": [
       "0.11123243744783456"
      ]
     },
     "execution_count": 9,
     "metadata": {},
     "output_type": "execute_result"
    }
   ],
   "source": [
    "stats.norm.cdf(-1.22)"
   ]
  },
  {
   "cell_type": "code",
   "execution_count": 10,
   "id": "3eaaf316",
   "metadata": {},
   "outputs": [
    {
     "data": {
      "image/png": "[encoded data removed]",
      "text/plain": [
       "<Figure size 360x360 with 1 Axes>"
      ]
     },
     "metadata": {
      "needs_background": "light"
     },
     "output_type": "display_data"
    }
   ],
   "source": [
    "gunny_bags=np.random.normal(loc=5, scale=1.5, size=100)\n",
    "sns.displot(gunny_bags, kind='kde')\n",
    "plt.axvline(x=3.17, c='red')\n",
    "plt.xlabel('Breaking strength')\n",
    "plt.ylabel('Probability')\n",
    "plt.title('strength of gunny bags')\n",
    "plt.show()"
   ]
  },
  {
   "cell_type": "markdown",
   "id": "dbef625d",
   "metadata": {},
   "source": [
    "3.2 What proportion of the gunny bags have a breaking strength at least 3.6 kg per sq cm.?"
   ]
  },
  {
   "cell_type": "code",
   "execution_count": 11,
   "id": "9b437aa1",
   "metadata": {},
   "outputs": [],
   "source": [
    "z=(3.6-5)/1.5"
   ]
  },
  {
   "cell_type": "code",
   "execution_count": 12,
   "id": "b724f36d",
   "metadata": {},
   "outputs": [
    {
     "data": {
      "text/plain": [
       "-0.9333333333333332"
      ]
     },
     "execution_count": 12,
     "metadata": {},
     "output_type": "execute_result"
    }
   ],
   "source": [
    "z"
   ]
  },
  {
   "cell_type": "code",
   "execution_count": 13,
   "id": "e7dbf53b",
   "metadata": {},
   "outputs": [
    {
     "data": {
      "text/plain": [
       "0.8245900158241952"
      ]
     },
     "execution_count": 13,
     "metadata": {},
     "output_type": "execute_result"
    }
   ],
   "source": [
    "1-stats.norm.cdf(-0.933)"
   ]
  },
  {
   "cell_type": "code",
   "execution_count": 14,
   "id": "6fe1028a",
   "metadata": {},
   "outputs": [
    {
     "data": {
      "image/png": "[encoded data removed]",
      "text/plain": [
       "<Figure size 360x360 with 1 Axes>"
      ]
     },
     "metadata": {
      "needs_background": "light"
     },
     "output_type": "display_data"
    }
   ],
   "source": [
    "gunny_bags=np.random.normal(loc=5, scale=1.5, size=100)\n",
    "sns.displot(gunny_bags, kind='kde')\n",
    "plt.axvline(x=3.6, c='red')\n",
    "plt.xlabel('Breaking strength')\n",
    "plt.ylabel('Probability')\n",
    "plt.title('strength of gunny bags')\n",
    "plt.show()"
   ]
  },
  {
   "cell_type": "markdown",
   "id": "8e5efee0",
   "metadata": {},
   "source": [
    "3.3 What proportion of the gunny bags have a breaking strength between 5 and 5.5 kg per sq cm.?"
   ]
  },
  {
   "cell_type": "code",
   "execution_count": 15,
   "id": "373fae13",
   "metadata": {},
   "outputs": [],
   "source": [
    "z1=(5-5)/1.5"
   ]
  },
  {
   "cell_type": "code",
   "execution_count": 16,
   "id": "18ee921b",
   "metadata": {},
   "outputs": [],
   "source": [
    "z2=(5.5-5)/1.5"
   ]
  },
  {
   "cell_type": "code",
   "execution_count": 17,
   "id": "4fb1c385",
   "metadata": {},
   "outputs": [
    {
     "data": {
      "text/plain": [
       "0.13055865981823633"
      ]
     },
     "execution_count": 17,
     "metadata": {},
     "output_type": "execute_result"
    }
   ],
   "source": [
    "stats.norm.cdf(z2)-stats.norm.cdf(z1)"
   ]
  },
  {
   "cell_type": "markdown",
   "id": "0580a4bd",
   "metadata": {},
   "source": [
    "3.4 What proportion of the gunny bags have a breaking strength NOT between 3 and 7.5 kg per sq cm.?"
   ]
  },
  {
   "cell_type": "code",
   "execution_count": 18,
   "id": "b0d80b29",
   "metadata": {},
   "outputs": [],
   "source": [
    "z1=(3-5)/1.5"
   ]
  },
  {
   "cell_type": "code",
   "execution_count": 19,
   "id": "8c172d29",
   "metadata": {},
   "outputs": [],
   "source": [
    "\n",
    "z2=(7.5-5)/1.5"
   ]
  },
  {
   "cell_type": "code",
   "execution_count": 20,
   "id": "9b411a81",
   "metadata": {},
   "outputs": [
    {
     "data": {
      "text/plain": [
       "0.13900157199868257"
      ]
     },
     "execution_count": 20,
     "metadata": {},
     "output_type": "execute_result"
    }
   ],
   "source": [
    "1-(stats.norm.cdf(z2)-stats.norm.cdf(z1))"
   ]
  },
  {
   "cell_type": "markdown",
   "id": "36b5cc77",
   "metadata": {},
   "source": [
    "Problem 4\n",
    "\n",
    "Grades of the final examination in a training course are found to be normally distributed, with a mean of 77 and a standard deviation of 8.5. Based on the given information answer the questions below."
   ]
  },
  {
   "cell_type": "markdown",
   "id": "08299f0e",
   "metadata": {},
   "source": [
    "\n",
    "4.1 What is the probability that a randomly chosen student gets a grade below 85 on this exam?\n",
    "\n"
   ]
  },
  {
   "cell_type": "code",
   "execution_count": 21,
   "id": "bf62757f",
   "metadata": {},
   "outputs": [
    {
     "data": {
      "text/plain": [
       "0.8266927837484748"
      ]
     },
     "execution_count": 21,
     "metadata": {},
     "output_type": "execute_result"
    }
   ],
   "source": [
    "stats.norm.cdf(85, loc=77, scale=8.5)"
   ]
  },
  {
   "cell_type": "markdown",
   "id": "c095fc76",
   "metadata": {},
   "source": [
    "4.2 What is the probability that a randomly selected student scores between 65 and 87?"
   ]
  },
  {
   "cell_type": "code",
   "execution_count": 22,
   "id": "18974a12",
   "metadata": {},
   "outputs": [
    {
     "data": {
      "text/plain": [
       "0.8012869336779058"
      ]
     },
     "execution_count": 22,
     "metadata": {},
     "output_type": "execute_result"
    }
   ],
   "source": [
    "(stats.norm.cdf(87, loc=77, scale=8.5)) - (stats.norm.cdf(65, loc=77, scale=8.5))"
   ]
  },
  {
   "cell_type": "markdown",
   "id": "da20380c",
   "metadata": {},
   "source": [
    "\n",
    "4.3 What should be the passing cut-off so that 75% of the students clear the exam?"
   ]
  },
  {
   "cell_type": "code",
   "execution_count": 23,
   "id": "61cbda14",
   "metadata": {},
   "outputs": [
    {
     "data": {
      "text/plain": [
       "71.2668371233333"
      ]
     },
     "execution_count": 23,
     "metadata": {},
     "output_type": "execute_result"
    }
   ],
   "source": [
    "stats.norm.ppf(0.25,loc=77,scale=8.5)"
   ]
  },
  {
   "cell_type": "markdown",
   "id": "a2d07d84",
   "metadata": {},
   "source": [
    "Problem 5\n",
    "\n",
    "Zingaro stone printing is a company that specializes in printing images or patterns on polished or unpolished stones. However, for the optimum level of printing of the image the stone surface has to have a Brinell's hardness index of at least 150. Recently, Zingaro has received a batch of polished and unpolished stones from its clients. Use the data provided to answer the following (assuming a 5% significance level);"
   ]
  },
  {
   "cell_type": "markdown",
   "id": "b2fbd6f1",
   "metadata": {},
   "source": [
    "5.1 Earlier experience of Zingaro with this particular client is favorable as the stone surface was found to be of adequate hardness. However, Zingaro has reason to believe now that the unpolished stones may not be suitable for printing. Do you think Zingaro is justified in thinking so?"
   ]
  },
  {
   "cell_type": "code",
   "execution_count": 24,
   "id": "ffb66698",
   "metadata": {},
   "outputs": [
    {
     "data": {
      "text/html": [
       "<div>\n",
       "<style scoped>\n",
       "    .dataframe tbody tr th:only-of-type {\n",
       "        vertical-align: middle;\n",
       "    }\n",
       "\n",
       "    .dataframe tbody tr th {\n",
       "        vertical-align: top;\n",
       "    }\n",
       "\n",
       "    .dataframe thead th {\n",
       "        text-align: right;\n",
       "    }\n",
       "</style>\n",
       "<table border=\"1\" class=\"dataframe\">\n",
       "  <thead>\n",
       "    <tr style=\"text-align: right;\">\n",
       "      <th></th>\n",
       "      <th>Unpolished</th>\n",
       "      <th>Treated and Polished</th>\n",
       "    </tr>\n",
       "  </thead>\n",
       "  <tbody>\n",
       "    <tr>\n",
       "      <th>0</th>\n",
       "      <td>164.481713</td>\n",
       "      <td>133.209393</td>\n",
       "    </tr>\n",
       "    <tr>\n",
       "      <th>1</th>\n",
       "      <td>154.307045</td>\n",
       "      <td>138.482771</td>\n",
       "    </tr>\n",
       "    <tr>\n",
       "      <th>2</th>\n",
       "      <td>129.861048</td>\n",
       "      <td>159.665201</td>\n",
       "    </tr>\n",
       "    <tr>\n",
       "      <th>3</th>\n",
       "      <td>159.096184</td>\n",
       "      <td>145.663528</td>\n",
       "    </tr>\n",
       "    <tr>\n",
       "      <th>4</th>\n",
       "      <td>135.256748</td>\n",
       "      <td>136.789227</td>\n",
       "    </tr>\n",
       "  </tbody>\n",
       "</table>\n",
       "</div>"
      ],
      "text/plain": [
       "   Unpolished   Treated and Polished\n",
       "0   164.481713            133.209393\n",
       "1   154.307045            138.482771\n",
       "2   129.861048            159.665201\n",
       "3   159.096184            145.663528\n",
       "4   135.256748            136.789227"
      ]
     },
     "execution_count": 24,
     "metadata": {},
     "output_type": "execute_result"
    }
   ],
   "source": [
    "df2=pd.read_csv('Zingaro_Company.csv')\n",
    "df2.head()"
   ]
  },
  {
   "cell_type": "code",
   "execution_count": 25,
   "id": "dd2d5eeb",
   "metadata": {},
   "outputs": [
    {
     "data": {
      "text/plain": [
       "(75, 2)"
      ]
     },
     "execution_count": 25,
     "metadata": {},
     "output_type": "execute_result"
    }
   ],
   "source": [
    "#checking the no of rows and columns\n",
    "df2.shape"
   ]
  },
  {
   "cell_type": "code",
   "execution_count": 26,
   "id": "f12e5b1e",
   "metadata": {},
   "outputs": [
    {
     "data": {
      "text/plain": [
       "Unpolished              0\n",
       "Treated and Polished    0\n",
       "dtype: int64"
      ]
     },
     "execution_count": 26,
     "metadata": {},
     "output_type": "execute_result"
    }
   ],
   "source": [
    "#checking null values\n",
    "df2.isnull().sum()"
   ]
  },
  {
   "cell_type": "code",
   "execution_count": 27,
   "id": "14561d65",
   "metadata": {},
   "outputs": [
    {
     "name": "stdout",
     "output_type": "stream",
     "text": [
      "<class 'pandas.core.frame.DataFrame'>\n",
      "RangeIndex: 75 entries, 0 to 74\n",
      "Data columns (total 2 columns):\n",
      " #   Column                Non-Null Count  Dtype  \n",
      "---  ------                --------------  -----  \n",
      " 0   Unpolished            75 non-null     float64\n",
      " 1   Treated and Polished  75 non-null     float64\n",
      "dtypes: float64(2)\n",
      "memory usage: 1.3 KB\n"
     ]
    }
   ],
   "source": [
    "#checking the data type\n",
    "df2.info()"
   ]
  },
  {
   "cell_type": "code",
   "execution_count": 28,
   "id": "240fefae",
   "metadata": {},
   "outputs": [
    {
     "data": {
      "text/html": [
       "<div>\n",
       "<style scoped>\n",
       "    .dataframe tbody tr th:only-of-type {\n",
       "        vertical-align: middle;\n",
       "    }\n",
       "\n",
       "    .dataframe tbody tr th {\n",
       "        vertical-align: top;\n",
       "    }\n",
       "\n",
       "    .dataframe thead th {\n",
       "        text-align: right;\n",
       "    }\n",
       "</style>\n",
       "<table border=\"1\" class=\"dataframe\">\n",
       "  <thead>\n",
       "    <tr style=\"text-align: right;\">\n",
       "      <th></th>\n",
       "      <th>Unpolished</th>\n",
       "      <th>Treated and Polished</th>\n",
       "    </tr>\n",
       "  </thead>\n",
       "  <tbody>\n",
       "    <tr>\n",
       "      <th>count</th>\n",
       "      <td>75.000000</td>\n",
       "      <td>75.000000</td>\n",
       "    </tr>\n",
       "    <tr>\n",
       "      <th>mean</th>\n",
       "      <td>134.110527</td>\n",
       "      <td>147.788117</td>\n",
       "    </tr>\n",
       "    <tr>\n",
       "      <th>std</th>\n",
       "      <td>33.041804</td>\n",
       "      <td>15.587355</td>\n",
       "    </tr>\n",
       "    <tr>\n",
       "      <th>min</th>\n",
       "      <td>48.406838</td>\n",
       "      <td>107.524167</td>\n",
       "    </tr>\n",
       "    <tr>\n",
       "      <th>25%</th>\n",
       "      <td>115.329753</td>\n",
       "      <td>138.268300</td>\n",
       "    </tr>\n",
       "    <tr>\n",
       "      <th>50%</th>\n",
       "      <td>135.597121</td>\n",
       "      <td>145.721322</td>\n",
       "    </tr>\n",
       "    <tr>\n",
       "      <th>75%</th>\n",
       "      <td>158.215098</td>\n",
       "      <td>157.373318</td>\n",
       "    </tr>\n",
       "    <tr>\n",
       "      <th>max</th>\n",
       "      <td>200.161313</td>\n",
       "      <td>192.272856</td>\n",
       "    </tr>\n",
       "  </tbody>\n",
       "</table>\n",
       "</div>"
      ],
      "text/plain": [
       "       Unpolished   Treated and Polished\n",
       "count    75.000000             75.000000\n",
       "mean    134.110527            147.788117\n",
       "std      33.041804             15.587355\n",
       "min      48.406838            107.524167\n",
       "25%     115.329753            138.268300\n",
       "50%     135.597121            145.721322\n",
       "75%     158.215098            157.373318\n",
       "max     200.161313            192.272856"
      ]
     },
     "execution_count": 28,
     "metadata": {},
     "output_type": "execute_result"
    }
   ],
   "source": [
    "df2.describe()"
   ]
  },
  {
   "cell_type": "code",
   "execution_count": 29,
   "id": "774b4dd7",
   "metadata": {},
   "outputs": [
    {
     "name": "stdout",
     "output_type": "stream",
     "text": [
      "The sample size of this problem is 75\n"
     ]
    }
   ],
   "source": [
    "#checking the sample size of the data\n",
    "print('The sample size of this problem is', len(df2))"
   ]
  },
  {
   "cell_type": "markdown",
   "id": "936a34c2",
   "metadata": {},
   "source": [
    "Defining Null and Alternate hypothesis\n",
    "\n",
    "Null hypothesis(H0):mean Brinell's hardness index of unpolished stones is >= 150\n",
    "\n",
    "Alternate hypothesis(H1):mean Brinell's hardness index of unpolished stones is < 150 \n",
    "\n",
    "Level of significance(alpha)=0.05\n",
    "\n",
    "Sample size=75\n",
    "\n",
    "We don’t know the standard deviation here"
   ]
  },
  {
   "cell_type": "code",
   "execution_count": 30,
   "id": "60cb4fc1",
   "metadata": {},
   "outputs": [
    {
     "name": "stdout",
     "output_type": "stream",
     "text": [
      "-4.164629601426758 8.342573994839285e-05\n"
     ]
    }
   ],
   "source": [
    "t_statistic, p_value  = stats.ttest_1samp(a=(df2['Unpolished ']), popmean=150)\n",
    "print(t_statistic, p_value)"
   ]
  },
  {
   "cell_type": "markdown",
   "id": "ca0413ec",
   "metadata": {},
   "source": [
    "Since the p value is less than 0.05, we reject the null hypothesis. Therefore, the batch of unpolished stone is not suitable for printing.\n"
   ]
  },
  {
   "cell_type": "markdown",
   "id": "d5131625",
   "metadata": {},
   "source": [
    "5.2 Is the mean hardness of the polished and unpolished stones the same?"
   ]
  },
  {
   "cell_type": "markdown",
   "id": "b18da562",
   "metadata": {},
   "source": [
    "H(0): Average hardness of polished stone= Average hardness of unpolished stone\n",
    "\n",
    "Vs\n",
    "\n",
    "H(1): Hardness are not equal\n",
    "\n",
    "significance level=0.05\n",
    "\n",
    "we don't know the standard population deviation and n=75, Here we perform two tailed test\n"
   ]
  },
  {
   "cell_type": "code",
   "execution_count": 32,
   "id": "ada84d11",
   "metadata": {},
   "outputs": [
    {
     "data": {
      "text/plain": [
       "1077.204027721573"
      ]
     },
     "execution_count": 32,
     "metadata": {},
     "output_type": "execute_result"
    }
   ],
   "source": [
    "# calculating the p value and test statistic\n",
    "np.var(df2['Unpolished '])"
   ]
  },
  {
   "cell_type": "code",
   "execution_count": 36,
   "id": "ab0d9b55",
   "metadata": {},
   "outputs": [
    {
     "data": {
      "text/plain": [
       "239.72610248498464"
      ]
     },
     "execution_count": 36,
     "metadata": {},
     "output_type": "execute_result"
    }
   ],
   "source": [
    "np.var(df2['Treated and Polished'])"
   ]
  },
  {
   "cell_type": "code",
   "execution_count": 38,
   "id": "e340cbf8",
   "metadata": {},
   "outputs": [
    {
     "data": {
      "text/plain": [
       "Ttest_indResult(statistic=-3.242232050141406, pvalue=0.001588379295584306)"
      ]
     },
     "execution_count": 38,
     "metadata": {},
     "output_type": "execute_result"
    }
   ],
   "source": [
    "stats.ttest_ind(a=(df2['Unpolished ']), b=(df2['Treated and Polished']), equal_var=False)"
   ]
  },
  {
   "cell_type": "markdown",
   "id": "24c6ecc9",
   "metadata": {},
   "source": [
    "Here p value is less than 0.05 therefore we reject the null hypothesis and the mean hardness of polished and unpolished are not the same"
   ]
  },
  {
   "cell_type": "markdown",
   "id": "17491fbf",
   "metadata": {},
   "source": [
    "Problem 6\n",
    "\n",
    "Aquarius health club, one of the largest and most popular cross-fit gyms in the country has been advertising a rigorous program for body conditioning. The program is considered successful if the candidate is able to do more than 5 push-ups, as compared to when he/she enrolled in the program. Using the sample data provided can you conclude whether the program is successful? (Consider the level of Significance as 5%)\n",
    "\n",
    "Note that this is a problem of the paired-t-test. Since the claim is that the training will make a difference of more than 5, the null and alternative hypotheses must be formed accordingly."
   ]
  },
  {
   "cell_type": "code",
   "execution_count": 56,
   "id": "e04b5d1d",
   "metadata": {},
   "outputs": [
    {
     "data": {
      "text/html": [
       "<div>\n",
       "<style scoped>\n",
       "    .dataframe tbody tr th:only-of-type {\n",
       "        vertical-align: middle;\n",
       "    }\n",
       "\n",
       "    .dataframe tbody tr th {\n",
       "        vertical-align: top;\n",
       "    }\n",
       "\n",
       "    .dataframe thead th {\n",
       "        text-align: right;\n",
       "    }\n",
       "</style>\n",
       "<table border=\"1\" class=\"dataframe\">\n",
       "  <thead>\n",
       "    <tr style=\"text-align: right;\">\n",
       "      <th></th>\n",
       "      <th>Sr no.</th>\n",
       "      <th>Before</th>\n",
       "      <th>After</th>\n",
       "    </tr>\n",
       "  </thead>\n",
       "  <tbody>\n",
       "    <tr>\n",
       "      <th>0</th>\n",
       "      <td>1</td>\n",
       "      <td>39</td>\n",
       "      <td>44</td>\n",
       "    </tr>\n",
       "    <tr>\n",
       "      <th>1</th>\n",
       "      <td>2</td>\n",
       "      <td>25</td>\n",
       "      <td>25</td>\n",
       "    </tr>\n",
       "    <tr>\n",
       "      <th>2</th>\n",
       "      <td>3</td>\n",
       "      <td>39</td>\n",
       "      <td>39</td>\n",
       "    </tr>\n",
       "    <tr>\n",
       "      <th>3</th>\n",
       "      <td>4</td>\n",
       "      <td>6</td>\n",
       "      <td>13</td>\n",
       "    </tr>\n",
       "    <tr>\n",
       "      <th>4</th>\n",
       "      <td>5</td>\n",
       "      <td>40</td>\n",
       "      <td>44</td>\n",
       "    </tr>\n",
       "  </tbody>\n",
       "</table>\n",
       "</div>"
      ],
      "text/plain": [
       "   Sr no.  Before  After\n",
       "0       1      39     44\n",
       "1       2      25     25\n",
       "2       3      39     39\n",
       "3       4       6     13\n",
       "4       5      40     44"
      ]
     },
     "execution_count": 56,
     "metadata": {},
     "output_type": "execute_result"
    }
   ],
   "source": [
    "df=pd.read_csv('Aquarius_gym.csv')\n",
    "df.head()"
   ]
  },
  {
   "cell_type": "code",
   "execution_count": 57,
   "id": "aa8918af",
   "metadata": {},
   "outputs": [
    {
     "data": {
      "text/plain": [
       "(100, 3)"
      ]
     },
     "execution_count": 57,
     "metadata": {},
     "output_type": "execute_result"
    }
   ],
   "source": [
    "#checking the no of rows and columns\n",
    "df.shape"
   ]
  },
  {
   "cell_type": "code",
   "execution_count": 58,
   "id": "f1b148ab",
   "metadata": {},
   "outputs": [
    {
     "data": {
      "text/plain": [
       "Sr no.    0\n",
       "Before    0\n",
       "After     0\n",
       "dtype: int64"
      ]
     },
     "execution_count": 58,
     "metadata": {},
     "output_type": "execute_result"
    }
   ],
   "source": [
    "#checking null values\n",
    "df.isnull().sum()"
   ]
  },
  {
   "cell_type": "code",
   "execution_count": 59,
   "id": "723b8cd5",
   "metadata": {},
   "outputs": [
    {
     "name": "stdout",
     "output_type": "stream",
     "text": [
      "<class 'pandas.core.frame.DataFrame'>\n",
      "RangeIndex: 100 entries, 0 to 99\n",
      "Data columns (total 3 columns):\n",
      " #   Column  Non-Null Count  Dtype\n",
      "---  ------  --------------  -----\n",
      " 0   Sr no.  100 non-null    int64\n",
      " 1   Before  100 non-null    int64\n",
      " 2   After   100 non-null    int64\n",
      "dtypes: int64(3)\n",
      "memory usage: 2.5 KB\n"
     ]
    }
   ],
   "source": [
    "#checking the data type\n",
    "df.info()"
   ]
  },
  {
   "cell_type": "code",
   "execution_count": 60,
   "id": "d2deb107",
   "metadata": {},
   "outputs": [
    {
     "data": {
      "text/html": [
       "<div>\n",
       "<style scoped>\n",
       "    .dataframe tbody tr th:only-of-type {\n",
       "        vertical-align: middle;\n",
       "    }\n",
       "\n",
       "    .dataframe tbody tr th {\n",
       "        vertical-align: top;\n",
       "    }\n",
       "\n",
       "    .dataframe thead th {\n",
       "        text-align: right;\n",
       "    }\n",
       "</style>\n",
       "<table border=\"1\" class=\"dataframe\">\n",
       "  <thead>\n",
       "    <tr style=\"text-align: right;\">\n",
       "      <th></th>\n",
       "      <th>Sr no.</th>\n",
       "      <th>Before</th>\n",
       "      <th>After</th>\n",
       "    </tr>\n",
       "  </thead>\n",
       "  <tbody>\n",
       "    <tr>\n",
       "      <th>count</th>\n",
       "      <td>100.000000</td>\n",
       "      <td>100.000000</td>\n",
       "      <td>100.000000</td>\n",
       "    </tr>\n",
       "    <tr>\n",
       "      <th>mean</th>\n",
       "      <td>50.500000</td>\n",
       "      <td>26.940000</td>\n",
       "      <td>32.490000</td>\n",
       "    </tr>\n",
       "    <tr>\n",
       "      <th>std</th>\n",
       "      <td>29.011492</td>\n",
       "      <td>8.806357</td>\n",
       "      <td>8.779562</td>\n",
       "    </tr>\n",
       "    <tr>\n",
       "      <th>min</th>\n",
       "      <td>1.000000</td>\n",
       "      <td>3.000000</td>\n",
       "      <td>10.000000</td>\n",
       "    </tr>\n",
       "    <tr>\n",
       "      <th>25%</th>\n",
       "      <td>25.750000</td>\n",
       "      <td>21.750000</td>\n",
       "      <td>26.000000</td>\n",
       "    </tr>\n",
       "    <tr>\n",
       "      <th>50%</th>\n",
       "      <td>50.500000</td>\n",
       "      <td>28.000000</td>\n",
       "      <td>34.000000</td>\n",
       "    </tr>\n",
       "    <tr>\n",
       "      <th>75%</th>\n",
       "      <td>75.250000</td>\n",
       "      <td>32.250000</td>\n",
       "      <td>39.000000</td>\n",
       "    </tr>\n",
       "    <tr>\n",
       "      <th>max</th>\n",
       "      <td>100.000000</td>\n",
       "      <td>47.000000</td>\n",
       "      <td>51.000000</td>\n",
       "    </tr>\n",
       "  </tbody>\n",
       "</table>\n",
       "</div>"
      ],
      "text/plain": [
       "           Sr no.      Before       After\n",
       "count  100.000000  100.000000  100.000000\n",
       "mean    50.500000   26.940000   32.490000\n",
       "std     29.011492    8.806357    8.779562\n",
       "min      1.000000    3.000000   10.000000\n",
       "25%     25.750000   21.750000   26.000000\n",
       "50%     50.500000   28.000000   34.000000\n",
       "75%     75.250000   32.250000   39.000000\n",
       "max    100.000000   47.000000   51.000000"
      ]
     },
     "execution_count": 60,
     "metadata": {},
     "output_type": "execute_result"
    }
   ],
   "source": [
    "df.describe()"
   ]
  },
  {
   "cell_type": "code",
   "execution_count": 61,
   "id": "46903ed2",
   "metadata": {},
   "outputs": [
    {
     "name": "stdout",
     "output_type": "stream",
     "text": [
      "The sample size of this problem is 100\n"
     ]
    }
   ],
   "source": [
    "#checking the sample size of the data\n",
    "print('The sample size of this problem is', len(df))"
   ]
  },
  {
   "cell_type": "markdown",
   "id": "d863704a",
   "metadata": {},
   "source": [
    "Defining Null and Alternate hypothesis\n",
    "\n",
    "Null hypothesis(H0)>=5 push ups\n",
    "\n",
    "Alternate hypothesis(H1)<5 push ups\n",
    "\n",
    "Level of significance(alpha)=0.05 \n",
    "\n",
    "Sample size=100\n",
    "\n",
    " We don’t know the standard deviation here\n"
   ]
  },
  {
   "cell_type": "code",
   "execution_count": 75,
   "id": "40b9ca97",
   "metadata": {},
   "outputs": [
    {
     "name": "stdout",
     "output_type": "stream",
     "text": [
      "tstat -4.4631595990523065\n",
      "P Value 1.3540434542242701e-05\n"
     ]
    }
   ],
   "source": [
    "t_statistic, p_value  = ttest_ind(df['Before'],df['After'])\n",
    "print('tstat',t_statistic)    \n",
    "print('P Value',p_value)"
   ]
  },
  {
   "cell_type": "code",
   "execution_count": 77,
   "id": "191ef4b4",
   "metadata": {},
   "outputs": [
    {
     "name": "stdout",
     "output_type": "stream",
     "text": [
      "We have enough evidence to reject the null hypothesis in favour of alternative hypothesis\n",
      "We conclude that the mean push ups is more OR EQUAL than 5\n"
     ]
    }
   ],
   "source": [
    "\n",
    "alpha_level = 0.05\n",
    "\n",
    "if p_value < alpha_level:\n",
    "    print('We have enough evidence to reject the null hypothesis in favour of alternative hypothesis')\n",
    "    print('We conclude that the mean push ups is more OR EQUAL than 5')\n",
    "else:\n",
    "    print('We do not have enough evidence to reject the null hypothesis in favour of alternative hypothesis')\n",
    "    print('We conclude that mean push ups is less than 5')"
   ]
  },
  {
   "cell_type": "markdown",
   "id": "51b1dff5",
   "metadata": {},
   "source": [
    "Problem 7\n",
    "\n",
    "Dental implant data: The hardness of metal implant in dental cavities depends on multiple factors, such as the method of implant, the temperature at which the metal is treated, the alloy used as well as on the dentists who may favour one method above another and may work better in his/her favourite method. The response is the variable of interest."
   ]
  },
  {
   "cell_type": "markdown",
   "id": "9a972064",
   "metadata": {},
   "source": [
    "7.1 Test whether there is any difference among the dentists on the implant hardness. State the null and alternative hypotheses. Note that both types of alloys cannot be considered together. You must state the null and alternative hypotheses separately for the two types of alloys.?"
   ]
  },
  {
   "cell_type": "markdown",
   "id": "4159a162",
   "metadata": {},
   "source": [
    "Hypothesis:\n",
    "\n",
    "A factor of the form H0: 1 =.. = a\n",
    "\n",
    "The means of the variable A categories are identical.\n",
    "\n",
    "Factor B: H0:.. = b\n",
    "\n",
    "The means of the variable B categories are identical. H0: Interaction(AiBj) = 0 (where I = 1 for a and j = 1 for b). The effects of variable A on the means of the cells do not rely on the effects of variable B, and vice versa, for all the cells. This shows that there is no interaction between variables A and B."
   ]
  },
  {
   "cell_type": "markdown",
   "id": "75dbc036",
   "metadata": {},
   "source": [
    "7.2 Before the hypotheses may be tested, state the required assumptions. Are the assumptions fulfilled? Comment separately on both alloy types.? \n"
   ]
  },
  {
   "cell_type": "code",
   "execution_count": 14,
   "id": "99ee08f5",
   "metadata": {},
   "outputs": [
    {
     "data": {
      "text/html": [
       "<div>\n",
       "<style scoped>\n",
       "    .dataframe tbody tr th:only-of-type {\n",
       "        vertical-align: middle;\n",
       "    }\n",
       "\n",
       "    .dataframe tbody tr th {\n",
       "        vertical-align: top;\n",
       "    }\n",
       "\n",
       "    .dataframe thead th {\n",
       "        text-align: right;\n",
       "    }\n",
       "</style>\n",
       "<table border=\"1\" class=\"dataframe\">\n",
       "  <thead>\n",
       "    <tr style=\"text-align: right;\">\n",
       "      <th></th>\n",
       "      <th>Dentist</th>\n",
       "      <th>Method</th>\n",
       "      <th>Alloy</th>\n",
       "      <th>Temp</th>\n",
       "      <th>Response</th>\n",
       "      <th>Unnamed: 5</th>\n",
       "      <th>Unnamed: 6</th>\n",
       "      <th>Unnamed: 7</th>\n",
       "      <th>Unnamed: 8</th>\n",
       "      <th>Unnamed: 9</th>\n",
       "      <th>Unnamed: 10</th>\n",
       "      <th>Unnamed: 11</th>\n",
       "      <th>Unnamed: 12</th>\n",
       "      <th>Unnamed: 13</th>\n",
       "    </tr>\n",
       "  </thead>\n",
       "  <tbody>\n",
       "    <tr>\n",
       "      <th>0</th>\n",
       "      <td>1.0</td>\n",
       "      <td>1.0</td>\n",
       "      <td>1.0</td>\n",
       "      <td>1500.0</td>\n",
       "      <td>813.0</td>\n",
       "      <td>NaN</td>\n",
       "      <td>NaN</td>\n",
       "      <td>Anova: Two-Factor Without Replication</td>\n",
       "      <td>NaN</td>\n",
       "      <td>NaN</td>\n",
       "      <td>NaN</td>\n",
       "      <td>NaN</td>\n",
       "      <td>NaN</td>\n",
       "      <td>NaN</td>\n",
       "    </tr>\n",
       "    <tr>\n",
       "      <th>1</th>\n",
       "      <td>1.0</td>\n",
       "      <td>1.0</td>\n",
       "      <td>1.0</td>\n",
       "      <td>1600.0</td>\n",
       "      <td>792.0</td>\n",
       "      <td>NaN</td>\n",
       "      <td>NaN</td>\n",
       "      <td>NaN</td>\n",
       "      <td>NaN</td>\n",
       "      <td>NaN</td>\n",
       "      <td>NaN</td>\n",
       "      <td>NaN</td>\n",
       "      <td>NaN</td>\n",
       "      <td>NaN</td>\n",
       "    </tr>\n",
       "    <tr>\n",
       "      <th>2</th>\n",
       "      <td>1.0</td>\n",
       "      <td>1.0</td>\n",
       "      <td>1.0</td>\n",
       "      <td>1700.0</td>\n",
       "      <td>792.0</td>\n",
       "      <td>NaN</td>\n",
       "      <td>NaN</td>\n",
       "      <td>SUMMARY</td>\n",
       "      <td>Count</td>\n",
       "      <td>Sum</td>\n",
       "      <td>Average</td>\n",
       "      <td>Variance</td>\n",
       "      <td>NaN</td>\n",
       "      <td>NaN</td>\n",
       "    </tr>\n",
       "    <tr>\n",
       "      <th>3</th>\n",
       "      <td>1.0</td>\n",
       "      <td>1.0</td>\n",
       "      <td>2.0</td>\n",
       "      <td>1500.0</td>\n",
       "      <td>907.0</td>\n",
       "      <td>NaN</td>\n",
       "      <td>NaN</td>\n",
       "      <td>1</td>\n",
       "      <td>4</td>\n",
       "      <td>2315</td>\n",
       "      <td>578.75</td>\n",
       "      <td>523721.583333</td>\n",
       "      <td>NaN</td>\n",
       "      <td>NaN</td>\n",
       "    </tr>\n",
       "    <tr>\n",
       "      <th>4</th>\n",
       "      <td>1.0</td>\n",
       "      <td>1.0</td>\n",
       "      <td>2.0</td>\n",
       "      <td>1600.0</td>\n",
       "      <td>792.0</td>\n",
       "      <td>NaN</td>\n",
       "      <td>NaN</td>\n",
       "      <td>1</td>\n",
       "      <td>4</td>\n",
       "      <td>2394</td>\n",
       "      <td>598.5</td>\n",
       "      <td>584819</td>\n",
       "      <td>NaN</td>\n",
       "      <td>NaN</td>\n",
       "    </tr>\n",
       "  </tbody>\n",
       "</table>\n",
       "</div>"
      ],
      "text/plain": [
       "   Dentist  Method  Alloy    Temp  Response  Unnamed: 5  Unnamed: 6  \\\n",
       "0      1.0     1.0    1.0  1500.0     813.0         NaN         NaN   \n",
       "1      1.0     1.0    1.0  1600.0     792.0         NaN         NaN   \n",
       "2      1.0     1.0    1.0  1700.0     792.0         NaN         NaN   \n",
       "3      1.0     1.0    2.0  1500.0     907.0         NaN         NaN   \n",
       "4      1.0     1.0    2.0  1600.0     792.0         NaN         NaN   \n",
       "\n",
       "                              Unnamed: 7 Unnamed: 8 Unnamed: 9 Unnamed: 10  \\\n",
       "0  Anova: Two-Factor Without Replication        NaN        NaN         NaN   \n",
       "1                                    NaN        NaN        NaN         NaN   \n",
       "2                                SUMMARY      Count        Sum     Average   \n",
       "3                                      1          4       2315      578.75   \n",
       "4                                      1          4       2394       598.5   \n",
       "\n",
       "     Unnamed: 11 Unnamed: 12 Unnamed: 13  \n",
       "0            NaN         NaN         NaN  \n",
       "1            NaN         NaN         NaN  \n",
       "2       Variance         NaN         NaN  \n",
       "3  523721.583333         NaN         NaN  \n",
       "4         584819         NaN         NaN  "
      ]
     },
     "execution_count": 14,
     "metadata": {},
     "output_type": "execute_result"
    }
   ],
   "source": [
    "df1=pd.read_excel('Dental Hardness data.xlsx')\n",
    "df1.head()"
   ]
  },
  {
   "cell_type": "code",
   "execution_count": 15,
   "id": "a3c62d53",
   "metadata": {},
   "outputs": [
    {
     "data": {
      "text/plain": [
       "(107, 14)"
      ]
     },
     "execution_count": 15,
     "metadata": {},
     "output_type": "execute_result"
    }
   ],
   "source": [
    "df1.shape"
   ]
  },
  {
   "cell_type": "code",
   "execution_count": 16,
   "id": "c4bfb817",
   "metadata": {},
   "outputs": [
    {
     "data": {
      "text/plain": [
       "Dentist         17\n",
       "Method          17\n",
       "Alloy           17\n",
       "Temp            17\n",
       "Response        17\n",
       "Unnamed: 5     107\n",
       "Unnamed: 6     107\n",
       "Unnamed: 7       5\n",
       "Unnamed: 8       7\n",
       "Unnamed: 9       7\n",
       "Unnamed: 10      8\n",
       "Unnamed: 11      9\n",
       "Unnamed: 12    104\n",
       "Unnamed: 13    104\n",
       "dtype: int64"
      ]
     },
     "execution_count": 16,
     "metadata": {},
     "output_type": "execute_result"
    }
   ],
   "source": [
    "df1.isnull().sum()"
   ]
  },
  {
   "cell_type": "code",
   "execution_count": 18,
   "id": "657c2bfa",
   "metadata": {},
   "outputs": [
    {
     "name": "stdout",
     "output_type": "stream",
     "text": [
      "<class 'pandas.core.frame.DataFrame'>\n",
      "RangeIndex: 107 entries, 0 to 106\n",
      "Data columns (total 14 columns):\n",
      " #   Column       Non-Null Count  Dtype  \n",
      "---  ------       --------------  -----  \n",
      " 0   Dentist      90 non-null     float64\n",
      " 1   Method       90 non-null     float64\n",
      " 2   Alloy        90 non-null     float64\n",
      " 3   Temp         90 non-null     float64\n",
      " 4   Response     90 non-null     float64\n",
      " 5   Unnamed: 5   0 non-null      float64\n",
      " 6   Unnamed: 6   0 non-null      float64\n",
      " 7   Unnamed: 7   102 non-null    object \n",
      " 8   Unnamed: 8   100 non-null    object \n",
      " 9   Unnamed: 9   100 non-null    object \n",
      " 10  Unnamed: 10  99 non-null     object \n",
      " 11  Unnamed: 11  98 non-null     object \n",
      " 12  Unnamed: 12  3 non-null      object \n",
      " 13  Unnamed: 13  3 non-null      object \n",
      "dtypes: float64(7), object(7)\n",
      "memory usage: 11.8+ KB\n"
     ]
    }
   ],
   "source": [
    "df1.info()"
   ]
  },
  {
   "cell_type": "code",
   "execution_count": 19,
   "id": "1f939ba1",
   "metadata": {},
   "outputs": [
    {
     "data": {
      "text/html": [
       "<div>\n",
       "<style scoped>\n",
       "    .dataframe tbody tr th:only-of-type {\n",
       "        vertical-align: middle;\n",
       "    }\n",
       "\n",
       "    .dataframe tbody tr th {\n",
       "        vertical-align: top;\n",
       "    }\n",
       "\n",
       "    .dataframe thead th {\n",
       "        text-align: right;\n",
       "    }\n",
       "</style>\n",
       "<table border=\"1\" class=\"dataframe\">\n",
       "  <thead>\n",
       "    <tr style=\"text-align: right;\">\n",
       "      <th></th>\n",
       "      <th>Dentist</th>\n",
       "      <th>Method</th>\n",
       "      <th>Alloy</th>\n",
       "      <th>Temp</th>\n",
       "      <th>Response</th>\n",
       "      <th>Unnamed: 5</th>\n",
       "      <th>Unnamed: 6</th>\n",
       "    </tr>\n",
       "  </thead>\n",
       "  <tbody>\n",
       "    <tr>\n",
       "      <th>count</th>\n",
       "      <td>90.000000</td>\n",
       "      <td>90.000000</td>\n",
       "      <td>90.000000</td>\n",
       "      <td>90.000000</td>\n",
       "      <td>90.000000</td>\n",
       "      <td>0.0</td>\n",
       "      <td>0.0</td>\n",
       "    </tr>\n",
       "    <tr>\n",
       "      <th>mean</th>\n",
       "      <td>3.000000</td>\n",
       "      <td>2.000000</td>\n",
       "      <td>1.500000</td>\n",
       "      <td>1600.000000</td>\n",
       "      <td>741.777778</td>\n",
       "      <td>NaN</td>\n",
       "      <td>NaN</td>\n",
       "    </tr>\n",
       "    <tr>\n",
       "      <th>std</th>\n",
       "      <td>1.422136</td>\n",
       "      <td>0.821071</td>\n",
       "      <td>0.502801</td>\n",
       "      <td>82.107083</td>\n",
       "      <td>145.767845</td>\n",
       "      <td>NaN</td>\n",
       "      <td>NaN</td>\n",
       "    </tr>\n",
       "    <tr>\n",
       "      <th>min</th>\n",
       "      <td>1.000000</td>\n",
       "      <td>1.000000</td>\n",
       "      <td>1.000000</td>\n",
       "      <td>1500.000000</td>\n",
       "      <td>289.000000</td>\n",
       "      <td>NaN</td>\n",
       "      <td>NaN</td>\n",
       "    </tr>\n",
       "    <tr>\n",
       "      <th>25%</th>\n",
       "      <td>2.000000</td>\n",
       "      <td>1.000000</td>\n",
       "      <td>1.000000</td>\n",
       "      <td>1500.000000</td>\n",
       "      <td>698.000000</td>\n",
       "      <td>NaN</td>\n",
       "      <td>NaN</td>\n",
       "    </tr>\n",
       "    <tr>\n",
       "      <th>50%</th>\n",
       "      <td>3.000000</td>\n",
       "      <td>2.000000</td>\n",
       "      <td>1.500000</td>\n",
       "      <td>1600.000000</td>\n",
       "      <td>767.000000</td>\n",
       "      <td>NaN</td>\n",
       "      <td>NaN</td>\n",
       "    </tr>\n",
       "    <tr>\n",
       "      <th>75%</th>\n",
       "      <td>4.000000</td>\n",
       "      <td>3.000000</td>\n",
       "      <td>2.000000</td>\n",
       "      <td>1700.000000</td>\n",
       "      <td>824.000000</td>\n",
       "      <td>NaN</td>\n",
       "      <td>NaN</td>\n",
       "    </tr>\n",
       "    <tr>\n",
       "      <th>max</th>\n",
       "      <td>5.000000</td>\n",
       "      <td>3.000000</td>\n",
       "      <td>2.000000</td>\n",
       "      <td>1700.000000</td>\n",
       "      <td>1115.000000</td>\n",
       "      <td>NaN</td>\n",
       "      <td>NaN</td>\n",
       "    </tr>\n",
       "  </tbody>\n",
       "</table>\n",
       "</div>"
      ],
      "text/plain": [
       "         Dentist     Method      Alloy         Temp     Response  Unnamed: 5  \\\n",
       "count  90.000000  90.000000  90.000000    90.000000    90.000000         0.0   \n",
       "mean    3.000000   2.000000   1.500000  1600.000000   741.777778         NaN   \n",
       "std     1.422136   0.821071   0.502801    82.107083   145.767845         NaN   \n",
       "min     1.000000   1.000000   1.000000  1500.000000   289.000000         NaN   \n",
       "25%     2.000000   1.000000   1.000000  1500.000000   698.000000         NaN   \n",
       "50%     3.000000   2.000000   1.500000  1600.000000   767.000000         NaN   \n",
       "75%     4.000000   3.000000   2.000000  1700.000000   824.000000         NaN   \n",
       "max     5.000000   3.000000   2.000000  1700.000000  1115.000000         NaN   \n",
       "\n",
       "       Unnamed: 6  \n",
       "count         0.0  \n",
       "mean          NaN  \n",
       "std           NaN  \n",
       "min           NaN  \n",
       "25%           NaN  \n",
       "50%           NaN  \n",
       "75%           NaN  \n",
       "max           NaN  "
      ]
     },
     "execution_count": 19,
     "metadata": {},
     "output_type": "execute_result"
    }
   ],
   "source": [
    "df1.describe()"
   ]
  },
  {
   "cell_type": "code",
   "execution_count": null,
   "id": "10976ee3",
   "metadata": {},
   "outputs": [],
   "source": []
  }
 ],
 "metadata": {
  "kernelspec": {
   "display_name": "Python 3 (ipykernel)",
   "language": "python",
   "name": "python3"
  },
  "language_info": {
   "codemirror_mode": {
    "name": "ipython",
    "version": 3
   },
   "file_extension": ".py",
   "mimetype": "text/x-python",
   "name": "python",
   "nbconvert_exporter": "python",
   "pygments_lexer": "ipython3",
   "version": "3.9.12"
  }
 },
 "nbformat": 4,
 "nbformat_minor": 5
}
